{
 "cells": [
  {
   "cell_type": "code",
   "execution_count": 169,
   "metadata": {},
   "outputs": [],
   "source": [
    "import numpy as np"
   ]
  },
  {
   "cell_type": "code",
   "execution_count": 170,
   "metadata": {},
   "outputs": [],
   "source": [
    "f = open('example_data_1_masked.txt', 'r')\n",
    "masked_lines = f.readlines()\n",
    "masked_data=[]\n",
    "for x in masked_lines:\n",
    "    masked_data.append(x.split(' '))\n",
    "f.close()"
   ]
  },
  {
   "cell_type": "code",
   "execution_count": 171,
   "metadata": {},
   "outputs": [
    {
     "name": "stdout",
     "output_type": "stream",
     "text": [
      "(39496, 50)\n",
      "['0' '*' '*' ... '1' '0' '2']\n",
      "39496\n"
     ]
    }
   ],
   "source": [
    "masked_data = np.asarray(masked_data)\n",
    "print(masked_data.shape)\n",
    "print(masked_data[:, 0])\n",
    "print(masked_data[:, 0].size)"
   ]
  },
  {
   "cell_type": "code",
   "execution_count": 172,
   "metadata": {},
   "outputs": [
    {
     "name": "stdout",
     "output_type": "stream",
     "text": [
      "39496\n",
      "39496\n"
     ]
    }
   ],
   "source": [
    "people = masked_data.shape[1]\n",
    "genome = masked_data.shape[0]\n",
    "count_stars = []\n",
    "count_zeros = []\n",
    "count_twos = []\n",
    "for value in range(genome):\n",
    "    count_zero = 0\n",
    "    count_two = 0\n",
    "    for person in range(people - 1):\n",
    "        if masked_data[value, person] == '0':\n",
    "            count_zero += 1\n",
    "        if masked_data[value, person] == '2':\n",
    "            count_two += 1\n",
    "    count_zeros.append(count_zero)\n",
    "    count_twos.append(count_two)\n",
    "print(len(count_zeros))\n",
    "print(len(count_twos))"
   ]
  },
  {
   "cell_type": "code",
   "execution_count": 173,
   "metadata": {},
   "outputs": [
    {
     "name": "stdout",
     "output_type": "stream",
     "text": [
      "['2' '2' '2' '2' '2' '2' '2' '2' '1' '2' '2' '2' '2' '2' '2' '2' '2' '2'\n",
      " '2' '2' '2' '2' '2' '2' '2' '2' '2' '2' '2' '1' '2' '2' '1' '2' '2' '2'\n",
      " '2' '2' '2' '2' '1' '2' '2' '2' '2' '2' '2' '2' '2' '2']\n"
     ]
    }
   ],
   "source": [
    "data = masked_data\n",
    "for value in range(genome):\n",
    "    for person in range(people):\n",
    "        if masked_data[value, person] == '*' or masked_data[value, person] == '*\\n':\n",
    "            if (count_zeros[value] > count_twos[value]):\n",
    "                data[value, person] = '0'\n",
    "            if (count_zeros[value] < count_twos[value] or count_zeros[value] == count_twos[value]):\n",
    "                data[value, person] = '2'\n",
    "print(data[50])"
   ]
  },
  {
   "cell_type": "code",
   "execution_count": 174,
   "metadata": {},
   "outputs": [],
   "source": [
    "np.savetxt('filled_data.txt', masked_data, fmt='%s') "
   ]
  },
  {
   "cell_type": "code",
   "execution_count": 175,
   "metadata": {},
   "outputs": [],
   "source": [
    "f = open('example_data_1.txt', 'r')\n",
    "lines = f.readlines()\n",
    "sol_data=[]\n",
    "for x in lines:\n",
    "    sol_data.append(x.split(' '))\n",
    "f.close()"
   ]
  },
  {
   "cell_type": "code",
   "execution_count": 176,
   "metadata": {
    "scrolled": true
   },
   "outputs": [
    {
     "name": "stdout",
     "output_type": "stream",
     "text": [
      "1960471\n",
      "1974800\n",
      "0.9927440753494025\n",
      "14329\n"
     ]
    }
   ],
   "source": [
    "sol_data = np.asarray(sol_data)\n",
    "count = 0\n",
    "total = genome*people\n",
    "\n",
    "for value in range(genome):\n",
    "    for person in range(people):\n",
    "        if (data[value, person] == sol_data[value, person]):\n",
    "            count += 1\n",
    "            \n",
    "print(count)\n",
    "print(total)\n",
    "print(count/total)\n",
    "print(total-count)"
   ]
  },
  {
   "cell_type": "code",
   "execution_count": null,
   "metadata": {},
   "outputs": [],
   "source": []
  }
 ],
 "metadata": {
  "kernelspec": {
   "display_name": "Python 3",
   "language": "python",
   "name": "python3"
  },
  "language_info": {
   "codemirror_mode": {
    "name": "ipython",
    "version": 3
   },
   "file_extension": ".py",
   "mimetype": "text/x-python",
   "name": "python",
   "nbconvert_exporter": "python",
   "pygments_lexer": "ipython3",
   "version": "3.7.3"
  }
 },
 "nbformat": 4,
 "nbformat_minor": 2
}
